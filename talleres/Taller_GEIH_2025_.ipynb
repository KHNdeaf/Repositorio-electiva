{
  "nbformat": 4,
  "nbformat_minor": 0,
  "metadata": {
    "colab": {
      "provenance": [],
      "authorship_tag": "ABX9TyOzslm7wPn48B17Szkt2vg+",
      "include_colab_link": true
    },
    "kernelspec": {
      "name": "python3",
      "display_name": "Python 3"
    },
    "language_info": {
      "name": "python"
    }
  },
  "cells": [
    {
      "cell_type": "markdown",
      "metadata": {
        "id": "view-in-github",
        "colab_type": "text"
      },
      "source": [
        "<a href=\"https://colab.research.google.com/github/KHNdeaf/Repositorio-electiva/blob/main/talleres/Taller_GEIH_2025_.ipynb\" target=\"_parent\"><img src=\"https://colab.research.google.com/assets/colab-badge.svg\" alt=\"Open In Colab\"/></a>"
      ]
    },
    {
      "cell_type": "markdown",
      "source": [
        "<div style=\"text-align: center; color: green;\">\n",
        "    <h1>Taller mercado laboral GEIH 2025</h1>\n",
        "    <h4> Interpretar y explicar textualmente todas las respuesta, la presentación de las respuestas queda a criterio del estudiante</h4>\n",
        "</div>"
      ],
      "metadata": {
        "id": "T2If4F8x-66M"
      }
    },
    {
      "cell_type": "markdown",
      "source": [
        "## Importando librerias"
      ],
      "metadata": {
        "id": "nCBi7OWWBZj4"
      }
    },
    {
      "cell_type": "code",
      "source": [
        "import pandas as pd\n",
        "import numpy as np\n",
        "from pathlib import Path"
      ],
      "metadata": {
        "id": "RT-E5StTBcCd"
      },
      "execution_count": null,
      "outputs": []
    },
    {
      "cell_type": "markdown",
      "source": [
        "## Leer los modulos  necesarios para el calculo de los indicadores de Mercado Laboral:\n",
        "* Caracteristicas generales, seguridad social en salud y educacion\n",
        "* Ocupados\n",
        "* Fuerza de trabajo\n",
        "* No ocupados"
      ],
      "metadata": {
        "id": "0TJJWHCoFcEb"
      }
    },
    {
      "cell_type": "code",
      "source": [
        "#Caracteristicas generales, seguridad social en salud y educacion\n",
        "\n",
        "# Links a los conjuntos de datos\n",
        "url_cgsse = 'https://github.com/KHNdeaf/Repositorio-electiva/raw/refs/heads/main/datos/GEIH2025/CGSSE.CSV'\n",
        "url_ocupados = 'https://raw.githubusercontent.com/niconomist98/DataAnalyticsUQ/main/Datos/GEIH2024/Ocupados.CSV'\n",
        "url_desocupados = 'https://github.com/KHNdeaf/Repositorio-electiva/raw/refs/heads/main/datos/GEIH2025/No%20ocupados.CSV'\n",
        "url_ft = 'https://github.com/KHNdeaf/Repositorio-electiva/raw/refs/heads/main/datos/GEIH2025/Fuerza%20de%20trabajo.CSV'\n",
        "\n",
        "# CGSSE\n",
        "df_cgsse = pd.read_csv(url_cgsse, encoding='latin-1', sep=';',\n",
        "                       low_memory=False)\n",
        "#Ocupados\n",
        "df_ocupados=pd.read_csv(url_ocupados,encoding='latin-1',sep=';',\n",
        "                        low_memory=False)\n",
        "#No ocupados\n",
        "df_desocupados=pd.read_csv(url_desocupados,encoding='latin-1',sep=';',\n",
        "                        low_memory=False)\n",
        "#Fuerza de trabajo\n",
        "df_ft=pd.read_csv(url_ft,encoding='latin-1',sep=';',low_memory=False)"
      ],
      "metadata": {
        "id": "FKRkI6gkFenL"
      },
      "execution_count": null,
      "outputs": []
    },
    {
      "cell_type": "markdown",
      "source": [
        "## Revisar que los  modulos esten cargados correctamente"
      ],
      "metadata": {
        "id": "34R2_fIIHdzL"
      }
    },
    {
      "cell_type": "code",
      "source": [
        "# CGSSE\n",
        "df_cgsse"
      ],
      "metadata": {
        "id": "wHwswqrLHebk"
      },
      "execution_count": null,
      "outputs": []
    },
    {
      "cell_type": "code",
      "source": [
        "print(df_cgsse.columns.tolist())"
      ],
      "metadata": {
        "id": "OFHOrBoDTtCV"
      },
      "execution_count": null,
      "outputs": []
    },
    {
      "cell_type": "code",
      "source": [
        "#Ocupados\n",
        "df_ocupados"
      ],
      "metadata": {
        "id": "dtSQoao6Hq2R"
      },
      "execution_count": null,
      "outputs": []
    },
    {
      "cell_type": "code",
      "source": [
        "print(df_ocupados.columns.tolist())"
      ],
      "metadata": {
        "id": "gGV3Mn1tTwIT"
      },
      "execution_count": null,
      "outputs": []
    },
    {
      "cell_type": "code",
      "source": [
        "#No ocupados\n",
        "df_desocupados"
      ],
      "metadata": {
        "id": "37-YsqVcHuK_"
      },
      "execution_count": null,
      "outputs": []
    },
    {
      "cell_type": "code",
      "source": [
        "print(df_desocupados.columns.tolist())"
      ],
      "metadata": {
        "id": "DJQAQkADTziH"
      },
      "execution_count": null,
      "outputs": []
    },
    {
      "cell_type": "code",
      "source": [
        "#Fuerza de trabajo\n",
        "df_ft"
      ],
      "metadata": {
        "id": "fA5NqslgHv6f"
      },
      "execution_count": null,
      "outputs": []
    },
    {
      "cell_type": "code",
      "source": [
        "print(df_ft.columns.tolist())"
      ],
      "metadata": {
        "id": "A30OnwuIT2-R"
      },
      "execution_count": null,
      "outputs": []
    },
    {
      "cell_type": "markdown",
      "source": [
        "<div style=\"text-align: center; color: blue;\">\n",
        "    <h2>Analisis de la estructura de los datos</h2>\n",
        "</div>\n",
        "\n",
        "-----------------------\n",
        "1. **Caracteristicas generales, seguridad social en salud y educacion** : Este modulo contiene caracteristicas generales de la poblacion y datos relevantes de la muestra representativa (hogares, viviendas, personas) sobre la cual el dane recolecta informacion. Este es el modulo mas general y sera el modulo base a partir del cual iremos añadiendo los demas modulos.\n",
        "----\n",
        "2. **Fuerza de trabajo** : Contiene informacion relevante para el analisis de la fuerza de trabajo, aqui se encuentran todas las personas en edad de trabajar y a este modulo se deben unir el modulo ocupados y no ocupados para calcular las tasas de desempleo y ocupación\n",
        "----\n",
        "3. **Ocupados**: En este modulo solo se incluye informacion de personas que ,en el modulo fuerza de trabajo fueron identificadas como población ocupada.\n",
        "----\n",
        "\n",
        "4. **No ocupados**: En este modulo solo se incluye informacion de personas que ,en el modulo fuerza de trabajo fueron identificadas como población no ocupada (Desempleados).\n",
        "\n",
        "-----------------------\n",
        "\n",
        "Variables esperadas (ajusta nombres según tu dataset): DEPARTAMENTO, SEXO (o P6090), EDAD, CONDICION_ACT (ocupado/desempleado/inactivo), OCUPADO (0/1), DESOCUPADO (0/1), FEX_C18, CIUO o OFICIO (código de la CIUO).\n",
        "\n",
        "-----------------------\n",
        "Definiciones clave:\n",
        "-----------------------\n",
        "Población total (PT) → todas las personas en la base, sumando con el factor de expansión.\n",
        "\n",
        " 𝑃𝑇 = ∑ 𝑓𝑒𝑥 𝑐_2025\n",
        "----\n",
        "Población en edad de trabajar (PET) → personas de 15 años o más en zonas urbanas, y 15 años o más en zonas rurales.\n",
        "\n",
        " 𝑃𝐸𝑇 = ∑ 𝑓𝑒𝑥𝑐_2025  ( 𝑒𝑑𝑎𝑑 ≥ 15 )\n",
        "----\n",
        "Población que no está en edad de trabajar (PNEET) → menores de edad.\n",
        "\n",
        " 𝑃𝑁𝐸𝐸𝑇 = 𝑃𝑇 − 𝑃𝐸𝑇\n",
        "----\n",
        "Población económicamente activa (PEA) → personas de la PET que están ocupadas o desocupadas (buscando trabajo).\n",
        "\n",
        " 𝑃𝐸𝐴 = 𝑂𝑐𝑢𝑝𝑎𝑑𝑜𝑠 + 𝐷𝑒𝑠𝑜𝑐𝑢𝑝𝑎𝑑𝑜𝑠\n",
        "----\n",
        "Población económicamente inactiva (PEI) → personas de la PET que no están buscando ni trabajando (estudiantes, oficios del hogar, pensionados, etc.).\n",
        "\n",
        " 𝑃𝐸𝐼 = 𝑃𝐸𝑇 − 𝑃𝐸𝐴\n",
        "----\n",
        "Tasa de ocupación (TO) → proporción de ocupados respecto a la PET.\n",
        "\n",
        " 𝑇𝑂 = ( 𝑂𝑐𝑢𝑝𝑎𝑑𝑜𝑠 / 𝑃𝐸𝑇 ) × 100\n",
        "----\n",
        "Tasa de desempleo (TD) → proporción de desocupados respecto a la PEA.\n",
        "\n",
        " 𝑇𝐷 = ( 𝐷𝑒𝑠𝑜𝑐𝑢𝑝𝑎𝑑𝑜𝑠 / 𝑃𝐸𝐴 ) × 100\n",
        "\n",
        "----"
      ],
      "metadata": {
        "id": "MDUY2o8mJ0m5"
      }
    },
    {
      "cell_type": "markdown",
      "source": [
        "1.\tPara el total nacional calcule :\n",
        "\n",
        "*   población total\n",
        "*   población en edad de trabajar\n",
        "*   población que no está en edad de trabajar\n",
        "*   población económicamente activa\n",
        "*   población económicamente inactiva\n",
        "*   tasa de ocupación\n",
        "*   tasa de desempleo"
      ],
      "metadata": {
        "id": "_zq72_szPKWE"
      }
    },
    {
      "cell_type": "markdown",
      "source": [
        "<div style=\"text-align: center; color: blue;\">\n",
        "    <h1> 1. Caracteristicas generales, seguridad social en salud y educacion</h1>\n",
        "    \n",
        "   <a href=\"https://microdatos.dane.gov.co/index.php/catalog/853/study-description\">Diccionario de datos Caracteristicas generales, seguridad social en salud y educacion </a>\n",
        "</div>"
      ],
      "metadata": {
        "id": "JDTN5uIBQO_7"
      }
    },
    {
      "cell_type": "markdown",
      "source": [
        "## Calcular población total"
      ],
      "metadata": {
        "id": "gtCyJgZPMNOI"
      }
    },
    {
      "cell_type": "code",
      "source": [
        "PT =  df_cgsse['FEX_C18'].sum()\n",
        "print(f' La población total de referencia para Colombia basado en el modulo cgsse de la GEIH y el factor de expansión es {PT}')"
      ],
      "metadata": {
        "id": "7zdsN-A_PjFr"
      },
      "execution_count": null,
      "outputs": []
    },
    {
      "cell_type": "markdown",
      "source": [
        "## Calcular población total : hombres y mujeres"
      ],
      "metadata": {
        "id": "woifneuAUNVW"
      }
    },
    {
      "cell_type": "code",
      "source": [
        "# P3271 : Cuál fue su sexo al nacer? Masculino: 1 Femenino: 2\n",
        "\n",
        "PH = df_cgsse[df_cgsse['P3271']==1]['FEX_C18'].sum()\n",
        "PM = df_cgsse[df_cgsse['P3271']==2]['FEX_C18'].sum()\n",
        "print(f' Hombres : {PH}')\n",
        "print(f' Mujeres:  {PM}')"
      ],
      "metadata": {
        "id": "ZFK_G1WoSTM4"
      },
      "execution_count": null,
      "outputs": []
    },
    {
      "cell_type": "code",
      "source": [
        "PH/PT*100"
      ],
      "metadata": {
        "id": "GTzupK4MSZ2N"
      },
      "execution_count": null,
      "outputs": []
    },
    {
      "cell_type": "code",
      "source": [
        "PM/PT*100"
      ],
      "metadata": {
        "id": "F1IKVP0wSc4E"
      },
      "execution_count": null,
      "outputs": []
    },
    {
      "cell_type": "code",
      "source": [
        "#CALCULAR POBLACION TOTAL\n",
        "#DPTO : departamento\n",
        "\n",
        "PTQ = df_cgsse[df_cgsse['DPTO'] == 63]['FEX_C18'].sum()\n",
        "PTQ"
      ],
      "metadata": {
        "id": "U2nRH3xVSjZi"
      },
      "execution_count": null,
      "outputs": []
    },
    {
      "cell_type": "code",
      "source": [
        "#Calculando cantidad de hombres y de mujeres\n",
        "PHQ = df_cgsse[(df_cgsse['DPTO']==63) & (df_cgsse['P3271']==1)]['FEX_C18'].sum()\n",
        "PMQ = df_cgsse[(df_cgsse['DPTO']==63) & (df_cgsse['P3271']==2)]['FEX_C18'].sum()\n",
        "print(f' Hombres : {PHQ}')\n",
        "print(f' Mujeres :  {PMQ}')"
      ],
      "metadata": {
        "id": "m2vDt8W5Ub4C"
      },
      "execution_count": null,
      "outputs": []
    },
    {
      "cell_type": "code",
      "source": [
        "#Porcentaje de hombres\n",
        "PHQ/PTQ*100"
      ],
      "metadata": {
        "id": "ZlbhKuWQUkDC"
      },
      "execution_count": null,
      "outputs": []
    },
    {
      "cell_type": "code",
      "source": [
        "#Porcentaje de mujeres\n",
        "\n",
        "PMQ/PTQ*100"
      ],
      "metadata": {
        "id": "SWd_2krmUnUQ"
      },
      "execution_count": null,
      "outputs": []
    },
    {
      "cell_type": "markdown",
      "source": [
        "## Calcular población en edad de trabajar"
      ],
      "metadata": {
        "id": "dnroEQ21UrhO"
      }
    },
    {
      "cell_type": "code",
      "source": [
        "# P6040 :  ¿cuántos años cumplidos tiene...?\n",
        "df_cgsse[df_cgsse['P6040']>=15]['FEX_C18'].sum()"
      ],
      "metadata": {
        "id": "b59HV3EkUrD0"
      },
      "execution_count": null,
      "outputs": []
    },
    {
      "cell_type": "markdown",
      "source": [
        "## Calcular población en edad de trabajar : Hombres y Mujeres"
      ],
      "metadata": {
        "id": "j_OVr7OsUw8k"
      }
    },
    {
      "cell_type": "code",
      "source": [
        "# P6040 :  ¿cuántos años cumplidos tiene...?\n",
        "PETH=df_cgsse[(df_cgsse['P6040']>=15) & (df_cgsse['P3271']==1)]['FEX_C18'].sum()\n",
        "PETM=df_cgsse[(df_cgsse['P6040']>=15) & (df_cgsse['P3271']==2)]['FEX_C18'].sum()\n",
        "print(f' PET Hombres : {PETH}')\n",
        "print(f' PET Mujeres:  {PETM}')"
      ],
      "metadata": {
        "id": "YTmtUrE3U1Fz"
      },
      "execution_count": null,
      "outputs": []
    },
    {
      "cell_type": "markdown",
      "source": [
        "<div style=\"text-align: center; color: blue;\">\n",
        "    <h1> 2. Fuerza de trabajo   </h1>\n",
        "    \n",
        "   <a href=\"https://microdatos.dane.gov.co/index.php/catalog/853/data-dictionary/F12?file_name=Fuerza%20de%20trabajo\">Fuerza de trabajo </a>\n",
        "   \n",
        "</div>"
      ],
      "metadata": {
        "id": "4hSQ8K0dVQre"
      }
    },
    {
      "cell_type": "markdown",
      "source": [
        "## Cantidad de personas en el dataset fuerza de trabajo : PET"
      ],
      "metadata": {
        "id": "n6zxUhvvWA79"
      }
    },
    {
      "cell_type": "code",
      "source": [
        "#PET : Poblacion en edad de trabajar ? 1: si\n",
        "PET=df_ft[df_ft['PET']==1]['FEX_C18'].sum()\n",
        "# Coincide con -> df_ft['FEX_C18'].sum()\n",
        "print(f'Población en edad de trabajar {PET}')"
      ],
      "metadata": {
        "id": "FAdx67nwVoui"
      },
      "execution_count": null,
      "outputs": []
    },
    {
      "cell_type": "markdown",
      "source": [
        "## Cantidad de personas en el dataset fuerza de trabajo : PEA"
      ],
      "metadata": {
        "id": "nIWcIZPmWDI5"
      }
    },
    {
      "cell_type": "code",
      "source": [
        "#FT: Pertenece a la PEA: .sum()si: 1\n",
        "PEA=df_ft[(df_ft['FT']==1)]['FEX_C18'].sum()\n",
        "print(f'Población Economicamente Activa {PEA}')"
      ],
      "metadata": {
        "id": "JvfqE4MoWGDr"
      },
      "execution_count": null,
      "outputs": []
    },
    {
      "cell_type": "markdown",
      "source": [
        "## PEI"
      ],
      "metadata": {
        "id": "37eu8_0hW8u_"
      }
    },
    {
      "cell_type": "code",
      "metadata": {
        "id": "3b447b0f"
      },
      "source": [
        "#PEI = PET - PEA\n",
        "#FFT Pertenece a la PEI  si:1\n",
        "PEI=df_ft[(df_ft['FFT']==1)]['FEX_C18'].sum()\n",
        "print(f'Población Economicamente Inactiva (PEI): {PEI}')"
      ],
      "execution_count": null,
      "outputs": []
    },
    {
      "cell_type": "markdown",
      "source": [
        "<div style=\"text-align: center; color: blue;\">\n",
        "    <h1> 3. Ocupados  </h1>\n",
        "   \n",
        "   <a href=\"https://microdatos.dane.gov.co/index.php/catalog/853/data-dictionary/F10?file_name=Ocupados\">Ocupados</a>\n",
        "</div>"
      ],
      "metadata": {
        "id": "DHvp41BOX4M2"
      }
    },
    {
      "cell_type": "markdown",
      "source": [
        "## Cantidad de personas en el dataset Ocupados"
      ],
      "metadata": {
        "id": "40NekVZyYS0k"
      }
    },
    {
      "cell_type": "code",
      "source": [
        "#OCI : Ocupado ? 1:si\n",
        "O=df_ocupados[(df_ocupados['OCI']==1)]['FEX_C18'].sum()\n",
        "print(f'Población Ocupada {O}')"
      ],
      "metadata": {
        "id": "VcKlxnZOXlBb"
      },
      "execution_count": null,
      "outputs": []
    },
    {
      "cell_type": "markdown",
      "source": [
        "<div style=\"text-align: center; color: blue;\">\n",
        "    <h1> 4. No Ocupados  </h1>\n",
        "   \n",
        "   <a href=\"https://microdatos.dane.gov.co/index.php/catalog/853/data-dictionary/F14?file_name=No%20ocupados\"> No Ocupados</a>\n",
        "</div>"
      ],
      "metadata": {
        "id": "uqmGfPSxY5-6"
      }
    },
    {
      "cell_type": "markdown",
      "source": [
        "## Cantidad de personas en el dataset No Ocupados"
      ],
      "metadata": {
        "id": "SrP0ex6pY9x7"
      }
    },
    {
      "cell_type": "code",
      "source": [
        "#OCI : Ocupado ? 1:si\n",
        "D=df_desocupados[(df_desocupados['DSI']==1)]['FEX_C18'].sum()\n",
        "print(f'Población No ocupada {D}')"
      ],
      "metadata": {
        "id": "f_8YOfQPY6zj"
      },
      "execution_count": null,
      "outputs": []
    },
    {
      "cell_type": "markdown",
      "source": [
        "# Tasa de ocupacion"
      ],
      "metadata": {
        "id": "SgUjJPWlZryw"
      }
    },
    {
      "cell_type": "code",
      "source": [
        "TO=O/PET*100\n",
        "print(f' Tasa de ocupacion {round(TO,1)}')"
      ],
      "metadata": {
        "id": "dwdTakDbZtZH"
      },
      "execution_count": null,
      "outputs": []
    },
    {
      "cell_type": "markdown",
      "source": [
        "# Tasa de desempleo"
      ],
      "metadata": {
        "id": "TBpr7mT5ZEi9"
      }
    },
    {
      "cell_type": "code",
      "source": [
        "TD=D/PEA*100\n",
        "print(f' Tasa de desempleo : {round(TD,1)}')"
      ],
      "metadata": {
        "id": "EJPB6I2JZLz7"
      },
      "execution_count": null,
      "outputs": []
    },
    {
      "cell_type": "markdown",
      "source": [
        "\n",
        "\n",
        "---\n",
        "\n",
        "\n",
        "\n",
        "---\n",
        "\n"
      ],
      "metadata": {
        "id": "fMwNdpLLbqXL"
      }
    },
    {
      "cell_type": "markdown",
      "source": [
        "# 1) Preparación"
      ],
      "metadata": {
        "id": "HKQRIBz5soQ6"
      }
    },
    {
      "cell_type": "code",
      "source": [
        "#Caracteristicas generales, seguridad social en salud y educacion\n",
        "\n",
        "# Links a los conjuntos de datos\n",
        "url_cgsse = 'https://github.com/KHNdeaf/Repositorio-electiva/raw/refs/heads/main/datos/GEIH2025/CGSSE.CSV'\n",
        "url_ocupados = 'https://raw.githubusercontent.com/niconomist98/DataAnalyticsUQ/main/Datos/GEIH2024/Ocupados.CSV'\n",
        "url_desocupados = 'https://github.com/KHNdeaf/Repositorio-electiva/raw/refs/heads/main/datos/GEIH2025/No%20ocupados.CSV'\n",
        "url_ft = 'https://github.com/KHNdeaf/Repositorio-electiva/raw/refs/heads/main/datos/GEIH2025/Fuerza%20de%20trabajo.CSV'\n",
        "\n",
        "\n",
        "# CGSSE\n",
        "df_cgsse = pd.read_csv(url_cgsse, encoding='latin-1', sep=';',\n",
        "                       low_memory=False)\n",
        "#Ocupados\n",
        "df_ocupados=pd.read_csv(url_ocupados,encoding='latin-1',sep=';',\n",
        "                        low_memory=False)\n",
        "#No ocupados\n",
        "df_desocupados=pd.read_csv(url_desocupados,encoding='latin-1',sep=';',\n",
        "                        low_memory=False)\n",
        "#Fuerza de trabajo\n",
        "df_ft=pd.read_csv(url_ft,encoding='latin-1',sep=';',low_memory=False)\n",
        "\n",
        "# Variables claves (confirma nombres en tus dataframes)\n",
        "# - DPTO : código de departamento (o nombre)\n",
        "# - SEXO o P6020 / P6020 may be gender code; Asegúrate del nombre exacto de la variable 'sexo' en tu Dato.\n",
        "# - EDAD / P6040 / edad variable\n",
        "# - FEX_C18 : factor de expansión (peso)\n",
        "# - INGLABO : ingreso laboral (en ocupados)\n",
        "# - DSI, PET u otras para clasificar. En 'No ocupados' se filtra por DSI==1 u otro criterio; revisa tu DataFrame.\n",
        "\n",
        "# Ejemplo de normalización del nombre de columna (ajusta según tu base)\n",
        "for df in [df_ocupados, df_desocupados, df_ft]:\n",
        "    df.columns = [c.strip() for c in df.columns]\n",
        "\n"
      ],
      "metadata": {
        "id": "dtWosBvcsr_Z"
      },
      "execution_count": null,
      "outputs": []
    },
    {
      "cell_type": "code",
      "source": [
        "df_ocupados.columns.tolist()"
      ],
      "metadata": {
        "id": "yc-zO7hZs-tH"
      },
      "execution_count": null,
      "outputs": []
    },
    {
      "cell_type": "markdown",
      "source": [
        "# 2) Calcular tasas de desempleo por sexo en todos los departamentos\n",
        "\n",
        "Concepto: para cada departamento y sexo:\n",
        "\n",
        "Desempleo = suma(peso de personas desocupadas)\n",
        "\n",
        "Fuerza laboral = suma(peso de ocupados + peso de desocupados) — (ó usar directamente df_ft con etiqueta PET/PEA)\n",
        "\n",
        "Tasa_desempleo = Desempleo / Fuerza_laboral"
      ],
      "metadata": {
        "id": "poaGCvjZr6wF"
      }
    },
    {
      "cell_type": "code",
      "source": [
        "# Merge df_cgsse with df_ocupados and df_desocupados to get sex and department information\n",
        "df_ocupados_merged = pd.merge(df_ocupados, df_cgsse[['DIRECTORIO', 'SECUENCIA_P', 'ORDEN', 'DPTO', 'P3271']], on=['DIRECTORIO', 'SECUENCIA_P', 'ORDEN'], how='left')\n",
        "df_desocupados_merged = pd.merge(df_desocupados, df_cgsse[['DIRECTORIO', 'SECUENCIA_P', 'ORDEN', 'DPTO', 'P3271']], on=['DIRECTORIO', 'SECUENCIA_P', 'ORDEN'], how='left')\n",
        "\n",
        "# Asegúrate que en df_desocupados cada fila representa una persona desocupada y tiene FEX_C18 and SEXO, DPTO.\n",
        "# Y que df_ocupados contiene ocupados con FEX_C18, SEXO, DPTO.\n",
        "\n",
        "# Renombrar columna sexo si fuese P6020 u otro:\n",
        "# df_ocupados['SEXO'] = df_ocupados['P6020']  # ejemplo\n",
        "\n",
        "# Sumar pesos por depto and sexo\n",
        "des_peso = df_desocupados_merged.groupby(['DPTO_y','P3271'], dropna=False)['FEX_C18'].sum().rename('des_peso')\n",
        "ocup_peso = df_ocupados_merged.groupby(['DPTO_y','P3271'], dropna=False)['FEX_C18'].sum().rename('ocup_peso')\n",
        "\n",
        "# Unir and calcular\n",
        "tasa_df = pd.concat([des_peso, ocup_peso], axis=1).fillna(0)\n",
        "tasa_df['fuerza_peso'] = tasa_df['des_peso'] + tasa_df['ocup_peso']\n",
        "tasa_df['tasa_desempleo'] = tasa_df['des_peso'] / tasa_df['fuerza_peso']\n",
        "tasa_df = tasa_df.reset_index()\n",
        "\n",
        "# Mostrar resultados ordenados por departamento and sexo\n",
        "tasa_df_sorted = tasa_df.sort_values(['DPTO_y','P3271'])\n",
        "tasa_df_sorted[['DPTO_y','P3271','tasa_desempleo']].head(20)"
      ],
      "metadata": {
        "id": "kyIlhNQ_6ymL"
      },
      "execution_count": null,
      "outputs": []
    },
    {
      "cell_type": "markdown",
      "source": [
        "# ¿cuáles son los departamentos con mayores y menores tasas de desempleo?"
      ],
      "metadata": {
        "id": "BRHf6eEEsasy"
      }
    },
    {
      "cell_type": "code",
      "source": [
        "# Tasa total por departamento (sumando ambos sexos)\n",
        "dept_tot = tasa_df.groupby('DPTO_y').apply(lambda d: pd.Series({\n",
        "    'des_peso_total': d['des_peso'].sum(),\n",
        "    'fuerza_total': d['fuerza_peso'].sum()\n",
        "})).reset_index()\n",
        "dept_tot['tasa_desemp_total'] = dept_tot['des_peso_total'] / dept_tot['fuerza_total']\n",
        "# Ordenar\n",
        "print(\"Departamentos con mayores tasas de desempleo:\")\n",
        "display(dept_tot.sort_values('tasa_desemp_total', ascending=False).head(5))   # mayores\n",
        "print(\"\\nDepartamentos con menores tasas de desempleo:\")\n",
        "display(dept_tot.sort_values('tasa_desemp_total', ascending=True).head(5))    # menores"
      ],
      "metadata": {
        "id": "8630Anpj6yMa"
      },
      "execution_count": null,
      "outputs": []
    },
    {
      "cell_type": "markdown",
      "source": [
        "# 3) Por cada departamento: ¿qué grupo de edad (entre los dados) tiene mayor y menor tasa de desempleo?\n",
        "\n",
        "Rangos que indicaste:\n",
        "\n",
        "18 a 24\n",
        "\n",
        "24 a 30\n",
        "\n",
        "30 a 40\n",
        "\n",
        "40 a 50\n",
        "\n",
        "60 en adelante\n",
        "\n",
        "Voy a proponer rangos no solapados que es lo usual:\n",
        "\n",
        "18–24\n",
        "\n",
        "25–30\n",
        "\n",
        "31–40\n",
        "\n",
        "41–50\n",
        "\n",
        "60+"
      ],
      "metadata": {
        "id": "jL_1P4JFthrh"
      }
    },
    {
      "cell_type": "code",
      "source": [
        "# Merge df_cgsse with df_ocupados and df_desocupados to get age and sex information\n",
        "df_ocupados_merged = pd.merge(df_ocupados, df_cgsse[['DIRECTORIO', 'SECUENCIA_P', 'ORDEN', 'DPTO', 'P6040', 'P3271']], on=['DIRECTORIO', 'SECUENCIA_P', 'ORDEN'], how='left')\n",
        "df_desocupados_merged = pd.merge(df_desocupados, df_cgsse[['DIRECTORIO', 'SECUENCIA_P', 'ORDEN', 'DPTO', 'P6040', 'P3271']], on=['DIRECTORIO', 'SECUENCIA_P', 'ORDEN'], how='left')\n",
        "\n",
        "# Definir función para asignar grupo de edad\n",
        "def asignar_grupo(edad):\n",
        "    if pd.isna(edad): return np.nan\n",
        "    edad = int(edad)\n",
        "    if 18 <= edad <= 24: return '18-24'\n",
        "    if 25 <= edad <= 30: return '25-30'\n",
        "    if 31 <= edad <= 40: return '31-40'\n",
        "    if 41 <= edad <= 50: return '41-50'\n",
        "    if edad >= 60: return '60+'\n",
        "    return 'otros'  # por ejemplo para 51-59 u menores de 18\n",
        "\n",
        "# Aplicar en las bases (asegúrate la columna edad se llama 'EDAD' o 'P6040')\n",
        "for df in [df_ocupados_merged, df_desocupados_merged]:\n",
        "    df['grupo_edad'] = df['P6040'].apply(asignar_grupo)\n",
        "\n",
        "# Calcular tasas por DPTO y grupo_edad\n",
        "des_gp = df_desocupados_merged.groupby(['DPTO_y','grupo_edad'])['FEX_C18'].sum().rename('des_peso')\n",
        "ocup_gp = df_ocupados_merged.groupby(['DPTO_y','grupo_edad'])['FEX_C18'].sum().rename('ocup_peso')\n",
        "\n",
        "tmp = pd.concat([des_gp, ocup_gp], axis=1).fillna(0)\n",
        "tmp['fuerza'] = tmp['des_peso'] + tmp['ocup_peso']\n",
        "tmp['tasa_desemp'] = tmp['des_peso'] / tmp['fuerza']\n",
        "tmp = tmp.reset_index()\n",
        "\n",
        "# Para cada departamento, obtener grupo con mayor y menor tasa (excluyendo 'otros' si quieres)\n",
        "res = tmp[tmp['grupo_edad'].isin(['18-24','25-30','31-40','41-50','60+'])]\n",
        "mayor = res.loc[res.groupby('DPTO_y')['tasa_desemp'].idxmax()].rename(columns={'grupo_edad':'grupo_mayor','tasa_desemp':'tasa_mayor'})\n",
        "menor = res.loc[res.groupby('DPTO_y')['tasa_desemp'].idxmin()].rename(columns={'grupo_edad':'grupo_menor','tasa_desemp':'tasa_menor'})\n",
        "\n",
        "# Unir para ver por departamento\n",
        "final = mayor[['DPTO_y','grupo_mayor','tasa_mayor']].merge(menor[['DPTO_y','grupo_menor','tasa_menor']], on='DPTO_y')\n",
        "final.head()"
      ],
      "metadata": {
        "id": "4MiPOy7O6xcC"
      },
      "execution_count": null,
      "outputs": []
    },
    {
      "cell_type": "markdown",
      "source": [
        "# 4) ¿Cuáles son los 3 departamentos con menor tasa de desempleo de mujeres entre los 18 y los 25 años?"
      ],
      "metadata": {
        "id": "Y0yXX2fDuOLZ"
      }
    },
    {
      "cell_type": "code",
      "source": [
        "# Filtrar mujeres y grupo 18-24\n",
        "# Asegúrate de cuál es el código para mujeres en tu columna 'SEXO'.\n",
        "# Ejemplo: SEXO == 2 -> mujer. Ajusta si tu dataset usa 'F' o 'M'.\n",
        "\n",
        "mujeres_18_24_des = df_desocupados_merged[df_desocupados_merged['grupo_edad']=='18-24']\n",
        "mujeres_18_24_ocup = df_ocupados_merged[df_ocupados_merged['grupo_edad']=='18-24']\n",
        "\n",
        "# Filtramos sexo:\n",
        "# por ejemplo si P3271==2 es mujer:\n",
        "muj_des = mujeres_18_24_des[mujeres_18_24_des['P3271']==2].groupby('DPTO_y')['FEX_C18'].sum().rename('des_peso')\n",
        "muj_ocup = mujeres_18_24_ocup[mujeres_18_24_ocup['P3271']==2].groupby('DPTO_y')['FEX_C18'].sum().rename('ocup_peso')\n",
        "\n",
        "muj_t = pd.concat([muj_des, muj_ocup], axis=1).fillna(0)\n",
        "muj_t['fuerza'] = muj_t['des_peso'] + muj_t['ocup_peso']\n",
        "muj_t['tasa_desemp'] = muj_t['des_peso'] / muj_t['fuerza']\n",
        "muj_t = muj_t.reset_index()\n",
        "# Tomar 3 menores (con suficiente muestra)\n",
        "muj_t.sort_values('tasa_desemp', ascending=True).head(10).head(3)"
      ],
      "metadata": {
        "id": "xP717cMk6wFg"
      },
      "execution_count": null,
      "outputs": []
    },
    {
      "cell_type": "markdown",
      "source": [
        "# 5) Promedio de ingresos laborales (INGLABO) para Risaralda, Caldas, Quindío, Antioquia y Valle del Cauca (Colombia 2025)"
      ],
      "metadata": {
        "id": "PNMW7fcIyksk"
      }
    },
    {
      "cell_type": "code",
      "source": [
        "# Diccionario para mapear códigos de departamento a nombres\n",
        "# Puedes completar este diccionario con los códigos y nombres de todos los departamentos si es necesario\n",
        "dpto_map = {\n",
        "    5: 'Antioquia',\n",
        "    13: 'Bolívar',\n",
        "    63: 'Quindío',\n",
        "    66: 'Risaralda',\n",
        "    76: 'Valle del Cauca',\n",
        "    17: 'Caldas'\n",
        "}\n",
        "\n",
        "deptos_codigos = [66, 17, 63, 5, 76]\n",
        "\n",
        "# Re-load df_ocupados to ensure the 'DPTO' column exists\n",
        "url_ocupados = 'https://raw.githubusercontent.com/niconomist98/DataAnalyticsUQ/main/Datos/GEIH2024/Ocupados.CSV'\n",
        "df_ocupados=pd.read_csv(url_ocupados,encoding='latin-1',sep=';', low_memory=False)\n",
        "\n",
        "# Strip whitespace from column names\n",
        "df_ocupados.columns = df_ocupados.columns.str.strip()\n",
        "\n",
        "# Find the actual DPTO column name\n",
        "dpto_col = None\n",
        "for col in df_ocupados.columns:\n",
        "    if 'DPTO' in col.upper():\n",
        "        dpto_col = col\n",
        "        break\n",
        "\n",
        "if dpto_col is None:\n",
        "    print(\"Error: DPTO column not found in the DataFrame.\")\n",
        "else:\n",
        "    # Asegúrate de que INGLABO está en df_ocupados and es numérica\n",
        "    df_ocupados['INGLABO'] = pd.to_numeric(df_ocupados['INGLABO'], errors='coerce')\n",
        "\n",
        "    # Filtrar departamentos\n",
        "    df_sel = df_ocupados[df_ocupados[dpto_col].isin(deptos_codigos)].copy()\n",
        "\n",
        "    # Calcular promedio ponderado por departamento\n",
        "    def weighted_mean(x):\n",
        "        return (x['INGLABO'] * x['FEX_C18']).sum() / x['FEX_C18'].sum()\n",
        "\n",
        "    prom_ING = df_sel.groupby(dpto_col).apply(weighted_mean).reset_index()\n",
        "    prom_ING = prom_ING.rename(columns={dpto_col: 'DPTO', 0: 'ING_prom_ponderado'})\n",
        "\n",
        "\n",
        "    # Mapear códigos de departamento a nombres\n",
        "    prom_ING['DPTO'] = prom_ING['DPTO'].map(dpto_map)\n",
        "\n",
        "    display(prom_ING)"
      ],
      "metadata": {
        "id": "McTvE58_6vrE"
      },
      "execution_count": null,
      "outputs": []
    },
    {
      "cell_type": "markdown",
      "source": [
        "# 6) Para los mismos departamentos, promedio de ingresos laborales por sexo y rangos de edad"
      ],
      "metadata": {
        "id": "yoLwNf1g2mbx"
      }
    },
    {
      "cell_type": "code",
      "source": [
        "# Reusar df_sel (ocupados en los departamentos indicados), usar grupo_edad y SEXO\n",
        "\n",
        "# Merge df_sel with df_cgsse to get sex information and age (P6040)\n",
        "# Keep the 'DPTO' column from df_sel (which comes from df_ocupados)\n",
        "df_sel_merged = pd.merge(df_sel, df_cgsse[['DIRECTORIO', 'SECUENCIA_P', 'ORDEN', 'P3271', 'P6040']], on=['DIRECTORIO', 'SECUENCIA_P', 'ORDEN'], how='left')\n",
        "\n",
        "# Apply the function to create the 'grupo_edad' column\n",
        "df_sel_merged['grupo_edad'] = df_sel_merged['P6040'].apply(asignar_grupo)\n",
        "\n",
        "df_sel_merged = df_sel_merged.dropna(subset=['INGLABO', 'grupo_edad']).copy()\n",
        "\n",
        "# Calculate weighted mean using agg with named aggregation\n",
        "agg = df_sel_merged.groupby(['DPTO','P3271','grupo_edad']).agg(\n",
        "    ING_prom=('INGLABO', lambda x: (x * df_sel_merged.loc[x.index, 'FEX_C18']).sum() / df_sel_merged.loc[x.index, 'FEX_C18'].sum())\n",
        ").reset_index()\n",
        "\n",
        "\n",
        "# If you want to pivot for visualization:\n",
        "pivot = agg.pivot_table(index=['DPTO','grupo_edad'], columns='P3271', values='ING_prom').reset_index()\n",
        "# Rename columns for better readability (assuming 1 is Male and 2 is Female based on previous analysis)\n",
        "pivot = pivot.rename(columns={1: 'ING_prom_Male', 2: 'ING_prom_Female'})\n",
        "display(pivot)"
      ],
      "metadata": {
        "id": "nhIBpRaY4WhH"
      },
      "execution_count": null,
      "outputs": []
    },
    {
      "cell_type": "markdown",
      "source": [
        "# 7) ¿Cuáles son los oficios (CIUO) con mayores promedios salariales a nivel nacional?"
      ],
      "metadata": {
        "id": "7eL73KD44W2K"
      }
    },
    {
      "cell_type": "code",
      "source": [
        "# Confirmar nombre de columna de oficio\n",
        "# Ejemplo: OFICIO1_C8\n",
        "df_ocupados['OFICIO'] = df_ocupados['OFICIO_C8'].astype(str).str.strip()\n",
        "df_ocupados = df_ocupados.dropna(subset=['INGLABO'])\n",
        "df_ocupados['INGLABO'] = pd.to_numeric(df_ocupados['INGLABO'], errors='coerce')\n",
        "\n",
        "oficios = df_ocupados.groupby('OFICIO').apply(lambda g: (g['INGLABO']*g['FEX_C18']).sum()/g['FEX_C18'].sum()).rename('ING_prom').reset_index()\n",
        "oficios.sort_values('ING_prom', ascending=False).head(20)"
      ],
      "metadata": {
        "id": "LVo6zkAJ4Yzm"
      },
      "execution_count": null,
      "outputs": []
    },
    {
      "cell_type": "markdown",
      "source": [
        "# 8) Elegir un código de oficio y evaluar si existen diferencias significativas entre promedios salariales de hombres y mujeres en Caldas, Quindío, Antioquia y Valle del Cauca"
      ],
      "metadata": {
        "id": "nXbcoGnX4bMR"
      }
    },
    {
      "cell_type": "code",
      "source": [
        "import random\n",
        "\n",
        "def bootstrap_weighted_mean(x, n_boot=1000, seed=123):\n",
        "    np.random.seed(seed)\n",
        "    # Expandir por probabilidades proporcionales al peso no es práctico. En su lugar, usar re-sampling con reemplazo y considerar pesos.\n",
        "    # Implementación: sample rows with probabilities proporcionales al peso\n",
        "    weights = x['FEX_C18'].values\n",
        "    probs = weights / weights.sum()\n",
        "    n = len(x)\n",
        "    means = []\n",
        "    for i in range(n_boot):\n",
        "        idx = np.random.choice(np.arange(n), size=n, replace=True, p=probs)\n",
        "        samp = x.iloc[idx]\n",
        "        mean = (samp['INGLABO']*samp['FEX_C18']).sum() / samp['FEX_C18'].sum()\n",
        "        means.append(mean)\n",
        "    return np.array(means)\n",
        "\n",
        "codigo = 'TU_CODIGO'  # reemplaza por el codigo elegido\n",
        "deptos = ['Caldas','Quindío','Antioquia','Valle del Cauca']\n",
        "results = []\n",
        "for d in deptos:\n",
        "    df_of = df_ocupados[(df_ocupados['OFICIO']==codigo) & (df_ocupados['DPTO']==d)].dropna(subset=['INGLABO'])\n",
        "    if df_of.empty:\n",
        "        print(f\"No hay registros para oficio {codigo} en {d}\")\n",
        "        continue\n",
        "    for sexo_label in [1,2]:  # ajustar codes: 1=M, 2=F\n",
        "        group = df_of[df_of['SEXO']==sexo_label]\n",
        "        if group.empty:\n",
        "            continue\n",
        "        boot = bootstrap_weighted_mean(group, n_boot=500)  # 500 iter para rapidez\n",
        "        mean = (group['INGLABO']*group['FEX_C18']).sum()/group['FEX_C18'].sum()\n",
        "        results.append({'DPTO':d, 'SEXO':sexo_label, 'mean':mean, 'boot_mean':np.mean(boot), 'boot_se':np.std(boot)})\n",
        "    # Comparación: diferencia de medias y p-valor aproximado (bootstrap)\n",
        "    # Obtener boots de las dos muestras y comparar\n",
        "    try:\n",
        "        a = bootstrap_weighted_mean(df_of[df_of['SEXO']==1], n_boot=500)\n",
        "        b = bootstrap_weighted_mean(df_of[df_of['SEXO']==2], n_boot=500)\n",
        "        diff = a - b\n",
        "        p_val = np.mean(diff <= 0) * 2  # dos colas aproximada\n",
        "        print(d, 'mean_M=', (df_of[df_of['SEXO']==1]['INGLABO']*df_of[df_of['SEXO']==1]['FEX_C18']).sum()/df_of[df_of['SEXO']==1]['FEX_C18'].sum(),\n",
        "              'mean_F=', (df_of[df_of['SEXO']==2]['INGLABO']*df_of[df_of['SEXO']==2]['FEX_C18']).sum()/df_of[df_of['SEXO']==2]['FEX_C18'].sum(),\n",
        "              'p_approx=', p_val)\n",
        "    except Exception as e:\n",
        "        print('Error comparing in', d, e)\n"
      ],
      "metadata": {
        "id": "lg1o8q3g4eKC"
      },
      "execution_count": null,
      "outputs": []
    },
    {
      "cell_type": "code",
      "metadata": {
        "id": "be4114e2"
      },
      "source": [
        "print(df_ocupados['OFICIO'].unique())"
      ],
      "execution_count": null,
      "outputs": []
    },
    {
      "cell_type": "markdown",
      "source": [
        "# 9) En Quindío: ¿qué oficio tiene mayor y menor promedio salarial en hombres y en mujeres?"
      ],
      "metadata": {
        "id": "tuigh2MR4hmj"
      }
    },
    {
      "cell_type": "code",
      "source": [
        "# Filtrado por Quindío\n",
        "q = df_ocupados[df_ocupados['DPTO']==63].dropna(subset=['INGLABO'])\n",
        "# Calcular promedio ponderado por oficio y sexo\n",
        "agg_q = q.groupby(['OFICIO','P3271']).apply(lambda g: (g['INGLABO']*g['FEX_C18']).sum()/g['FEX_C18'].sum()).rename('ING_prom').reset_index()\n",
        "\n",
        "# Para hombres (P3271 == 1)\n",
        "may_h = agg_q[agg_q['P3271']==1].sort_values('ING_prom', ascending=False).head(1)\n",
        "min_h = agg_q[agg_q['P3271']==1].sort_values('ING_prom', ascending=True).head(1)\n",
        "\n",
        "# Para mujeres (P3271 == 2)\n",
        "may_f = agg_q[agg_q['P3271']==2].sort_values('ING_prom', ascending=False).head(1)\n",
        "min_f = agg_q[agg_q['P3271']==2].sort_values('ING_prom', ascending=True).head(1)\n",
        "\n",
        "may_h, min_h, may_f, min_f"
      ],
      "metadata": {
        "id": "rcFhSDHJ_jYU"
      },
      "execution_count": null,
      "outputs": []
    },
    {
      "cell_type": "code",
      "source": [
        "print(q.columns)\n"
      ],
      "metadata": {
        "id": "SFEKFvzn_3O0"
      },
      "execution_count": null,
      "outputs": []
    },
    {
      "cell_type": "code",
      "source": [
        "agg_q = q.groupby(['OFICIO','P3271']).apply(\n",
        "    lambda g: (g['INGLABO']*g['FEX_C18']).sum()/g['FEX_C18'].sum()\n",
        ").rename('ING_prom').reset_index()"
      ],
      "metadata": {
        "id": "STN9BGuB_8Se"
      },
      "execution_count": null,
      "outputs": []
    }
  ]
}